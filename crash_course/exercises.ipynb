{
 "cells": [
  {
   "cell_type": "markdown",
   "metadata": {},
   "source": [
    "** What is 7 to the power of 4?**"
   ]
  },
  {
   "cell_type": "code",
   "execution_count": 1,
   "metadata": {
    "collapsed": false
   },
   "outputs": [
    {
     "name": "stdout",
     "output_type": "stream",
     "text": [
      "2401\n"
     ]
    }
   ],
   "source": [
<<<<<<< Updated upstream:crash_course/exercises.ipynb
    "x = 7\n",
    "y = 4\n",
    "print(x ** y)"
=======
    "print(7 ** 4)"
>>>>>>> Stashed changes:crash_course/Python Crash Course Exercises.ipynb
   ]
  },
  {
   "cell_type": "markdown",
   "metadata": {},
   "source": [
    "** Split this string:**\n",
    "\n",
    "    s = \"Hi there Sam!\"\n",
    "    \n",
    "**into a list. **"
   ]
  },
  {
   "cell_type": "code",
   "execution_count": 2,
   "metadata": {
    "collapsed": true
   },
<<<<<<< Updated upstream:crash_course/exercises.ipynb
   "outputs": [
    {
     "data": {
      "text/plain": [
       "['Hello,', 'World!']"
      ]
     },
     "execution_count": 2,
     "metadata": {},
     "output_type": "execute_result"
    }
   ],
   "source": [
    "s = \"Hello, World!\"\n",
    "s.split()"
=======
   "outputs": [],
   "source": [
    "st = \"Hey, how is it going?\""
>>>>>>> Stashed changes:crash_course/Python Crash Course Exercises.ipynb
   ]
  },
  {
   "cell_type": "code",
   "execution_count": 3,
   "metadata": {
    "collapsed": false
   },
   "outputs": [
    {
     "data": {
      "text/plain": [
<<<<<<< Updated upstream:crash_course/exercises.ipynb
       "['Hi there', 'dad!']"
=======
       "['Hey,', 'how', 'is', 'it', 'going?']"
>>>>>>> Stashed changes:crash_course/Python Crash Course Exercises.ipynb
      ]
     },
     "execution_count": 3,
     "metadata": {},
     "output_type": "execute_result"
    }
   ],
   "source": [
<<<<<<< Updated upstream:crash_course/exercises.ipynb
    "a = \"Hi there, dad!\"\n",
    "a.split(\", \")"
=======
    "st.split()"
>>>>>>> Stashed changes:crash_course/Python Crash Course Exercises.ipynb
   ]
  },
  {
   "cell_type": "markdown",
   "metadata": {},
   "source": [
    "** Given the variables:**\n",
    "\n",
    "    planet = \"Earth\"\n",
    "    diameter = 12742\n",
    "\n",
    "** Use .format() to print the following string: **\n",
    "\n",
    "    The diameter of Earth is 12742 kilometers."
   ]
  },
  {
   "cell_type": "code",
   "execution_count": 4,
   "metadata": {
    "collapsed": true
   },
   "outputs": [],
   "source": [
    "planet = \"Earth\"\n",
    "diameter = 12742"
   ]
  },
  {
   "cell_type": "code",
   "execution_count": 5,
   "metadata": {
    "collapsed": false
   },
   "outputs": [
    {
     "name": "stdout",
     "output_type": "stream",
     "text": [
      "the diameter of Earth is 12742 kilometers.\n"
     ]
    }
   ],
   "source": [
<<<<<<< Updated upstream:crash_course/exercises.ipynb
    "print(f\"The diameter of {planet} is {diameter} kilometers.\")"
=======
    "print(f\"the diameter of {planet} is {diameter} kilometers.\")"
>>>>>>> Stashed changes:crash_course/Python Crash Course Exercises.ipynb
   ]
  },
  {
   "cell_type": "markdown",
   "metadata": {},
   "source": [
    "** Given this nested list, use indexing to grab the word \"hello\" **"
   ]
  },
  {
   "cell_type": "code",
   "execution_count": 6,
   "metadata": {
    "collapsed": true
   },
   "outputs": [],
   "source": [
    "lst = [1,2,[3,4],[5,[100,200,['hello']],23,11],1,7]"
   ]
  },
  {
   "cell_type": "code",
<<<<<<< Updated upstream:crash_course/exercises.ipynb
   "execution_count": 9,
=======
   "execution_count": 12,
>>>>>>> Stashed changes:crash_course/Python Crash Course Exercises.ipynb
   "metadata": {
    "collapsed": false
   },
   "outputs": [
    {
     "data": {
      "text/plain": [
       "'hello'"
      ]
     },
<<<<<<< Updated upstream:crash_course/exercises.ipynb
     "execution_count": 9,
=======
     "execution_count": 12,
>>>>>>> Stashed changes:crash_course/Python Crash Course Exercises.ipynb
     "metadata": {},
     "output_type": "execute_result"
    }
   ],
   "source": [
    "lst[3][1][2][0]"
   ]
  },
  {
   "cell_type": "markdown",
   "metadata": {},
   "source": [
    "** Given this nest dictionary grab the word \"hello\". Be prepared, this will be annoying/tricky **"
   ]
  },
  {
   "cell_type": "code",
<<<<<<< Updated upstream:crash_course/exercises.ipynb
   "execution_count": 10,
=======
   "execution_count": 13,
>>>>>>> Stashed changes:crash_course/Python Crash Course Exercises.ipynb
   "metadata": {
    "collapsed": false
   },
   "outputs": [],
   "source": [
    "d = {'k1':[1,2,3,{'tricky':['oh','man','inception',{'target':[1,2,3,'hello']}]}]}"
   ]
  },
  {
   "cell_type": "code",
<<<<<<< Updated upstream:crash_course/exercises.ipynb
   "execution_count": 15,
=======
   "execution_count": 20,
>>>>>>> Stashed changes:crash_course/Python Crash Course Exercises.ipynb
   "metadata": {
    "collapsed": false
   },
   "outputs": [
    {
     "data": {
      "text/plain": [
       "'hello'"
      ]
     },
<<<<<<< Updated upstream:crash_course/exercises.ipynb
     "execution_count": 15,
=======
     "execution_count": 20,
>>>>>>> Stashed changes:crash_course/Python Crash Course Exercises.ipynb
     "metadata": {},
     "output_type": "execute_result"
    }
   ],
   "source": [
    "d['k1'][3]['tricky'][3]['target'][3]"
   ]
  },
  {
   "cell_type": "markdown",
   "metadata": {},
   "source": [
    "** What is the main difference between a tuple and a list? **"
   ]
  },
  {
   "cell_type": "code",
<<<<<<< Updated upstream:crash_course/exercises.ipynb
   "execution_count": 16,
=======
   "execution_count": 21,
>>>>>>> Stashed changes:crash_course/Python Crash Course Exercises.ipynb
   "metadata": {
    "collapsed": true
   },
   "outputs": [
    {
<<<<<<< Updated upstream:crash_course/exercises.ipynb
     "name": "stdout",
     "output_type": "stream",
     "text": [
      "tuples are immutable.\n"
     ]
=======
     "data": {
      "text/plain": [
       "'tuples are immutable.'"
      ]
     },
     "execution_count": 21,
     "metadata": {},
     "output_type": "execute_result"
>>>>>>> Stashed changes:crash_course/Python Crash Course Exercises.ipynb
    }
   ],
   "source": [
    "# Just answer with text, no code necessary\n",
<<<<<<< Updated upstream:crash_course/exercises.ipynb
    "print(\"tuples are immutable.\")"
=======
    "\"tuples are immutable.\""
>>>>>>> Stashed changes:crash_course/Python Crash Course Exercises.ipynb
   ]
  },
  {
   "cell_type": "markdown",
   "metadata": {},
   "source": [
    "** Create a function that grabs the email website domain from a string in the form: **\n",
    "\n",
    "    user@domain.com\n",
    "    \n",
    "**So for example, passing \"user@domain.com\" would return: domain.com**"
   ]
  },
  {
   "cell_type": "code",
<<<<<<< Updated upstream:crash_course/exercises.ipynb
   "execution_count": 17,
   "metadata": {
    "collapsed": true
   },
   "outputs": [
    {
     "name": "stdout",
     "output_type": "stream",
     "text": [
      "icloud.com\n"
     ]
    }
   ],
   "source": [
    "domain = lambda st: st.split('@')[-1]\n",
    "print(domain('cunningrob@icloud.com'))"
   ]
  },
  {
   "cell_type": "markdown",
   "metadata": {},
   "source": [
    "** Create a function that grabs the username from a string in the form: **\n",
    "\n",
    "    user@domain.com\n",
    "    \n",
    "**So for example, passing \"user@domain.com\" would return: user**"
=======
   "execution_count": 22,
   "metadata": {
    "collapsed": true
   },
   "outputs": [],
   "source": [
    "domain = lambda email: email.split('@')[-1] "
>>>>>>> Stashed changes:crash_course/Python Crash Course Exercises.ipynb
   ]
  },
  {
   "cell_type": "code",
<<<<<<< Updated upstream:crash_course/exercises.ipynb
   "execution_count": 18,
=======
   "execution_count": 23,
>>>>>>> Stashed changes:crash_course/Python Crash Course Exercises.ipynb
   "metadata": {
    "collapsed": false
   },
   "outputs": [
    {
     "name": "stdout",
     "output_type": "stream",
     "text": [
<<<<<<< Updated upstream:crash_course/exercises.ipynb
      "cunningrob\n"
=======
      "icloud.com\n"
>>>>>>> Stashed changes:crash_course/Python Crash Course Exercises.ipynb
     ]
    }
   ],
   "source": [
<<<<<<< Updated upstream:crash_course/exercises.ipynb
    "getuser = lambda user: user.split('@')[0]\n",
    "print(getuser('cunningrob@icloud.com'))"
=======
    "print(domain('cunningrob@icloud.com'))"
   ]
  },
  {
   "cell_type": "code",
   "execution_count": 24,
   "metadata": {},
   "outputs": [
    {
     "name": "stdout",
     "output_type": "stream",
     "text": [
      "cunningrob\n"
     ]
    }
   ],
   "source": [
    "username = lambda email: email.split('@')[0]\n",
    "print(username('cunningrob@icloud.com'))"
>>>>>>> Stashed changes:crash_course/Python Crash Course Exercises.ipynb
   ]
  },
  {
   "cell_type": "markdown",
   "metadata": {},
   "source": [
    "** Create a basic function that returns True if the word 'dog' is contained in the input string. Don't worry about edge cases like a punctuation being attached to the word dog, but do account for capitalization. **"
   ]
  },
  {
   "cell_type": "code",
<<<<<<< Updated upstream:crash_course/exercises.ipynb
   "execution_count": 20,
   "metadata": {
    "collapsed": true
   },
=======
   "execution_count": 26,
   "metadata": {
    "collapsed": true
   },
   "outputs": [
    {
     "name": "stdout",
     "output_type": "stream",
     "text": [
      "True\n"
     ]
    }
   ],
   "source": [
    "finddog = lambda st: 'dog' in st.lower().split()\n",
    "print(finddog('I have a dog'))"
   ]
  },
  {
   "cell_type": "code",
   "execution_count": 29,
   "metadata": {
    "collapsed": false
   },
>>>>>>> Stashed changes:crash_course/Python Crash Course Exercises.ipynb
   "outputs": [
    {
     "name": "stdout",
     "output_type": "stream",
     "text": [
<<<<<<< Updated upstream:crash_course/exercises.ipynb
      "True\n"
=======
      "True\n",
      "False\n"
>>>>>>> Stashed changes:crash_course/Python Crash Course Exercises.ipynb
     ]
    }
   ],
   "source": [
<<<<<<< Updated upstream:crash_course/exercises.ipynb
    "finddog = lambda st: 'dog' in st.lower()\n",
    "print(finddog('There is a dog in the backyard.'))"
=======
    "def finddog(st):\n",
    "    \"\"\"this function returns True if the string 'dog' is in the string\"\"\"\n",
    "    return 'dog' in st.lower().split()\n",
    "\n",
    "print(finddog('There is a dog in my backyard'))\n",
    "print(finddog('I have a cat'))"
>>>>>>> Stashed changes:crash_course/Python Crash Course Exercises.ipynb
   ]
  },
  {
   "cell_type": "markdown",
   "metadata": {},
   "source": [
    "** Create a function that counts the number of times the word \"dog\" occurs in a string. Again ignore edge cases. **"
   ]
  },
  {
   "cell_type": "code",
<<<<<<< Updated upstream:crash_course/exercises.ipynb
   "execution_count": 21,
=======
   "execution_count": 30,
>>>>>>> Stashed changes:crash_course/Python Crash Course Exercises.ipynb
   "metadata": {
    "collapsed": false
   },
   "outputs": [
    {
<<<<<<< Updated upstream:crash_course/exercises.ipynb
     "name": "stdout",
     "output_type": "stream",
     "text": [
      "1\n"
     ]
    }
   ],
   "source": [
    "count_dog = lambda st: st.lower().count('dog')\n",
    "print(count_dog('There is a dog in the backyard.'))"
=======
     "data": {
      "text/plain": [
       "1"
      ]
     },
     "execution_count": 30,
     "metadata": {},
     "output_type": "execute_result"
    }
   ],
   "source": [
    "def countdog(st):\n",
    "    \"\"\"this function returns the number of times the string 'dog' appears in the string\"\"\"\n",
    "    return st.lower().split().count('dog')\n",
    "\n",
    "countdog('I have a dog')\n"
   ]
  },
  {
   "cell_type": "code",
   "execution_count": 32,
   "metadata": {
    "collapsed": false
   },
   "outputs": [
    {
     "name": "stdout",
     "output_type": "stream",
     "text": [
      "2\n"
     ]
    }
   ],
   "source": [
    "count_dog = lambda st: st.lower().split().count('dog')\n",
    "print(count_dog('I used to have a dog and the name of that dog was Fido'))"
>>>>>>> Stashed changes:crash_course/Python Crash Course Exercises.ipynb
   ]
  },
  {
   "cell_type": "markdown",
   "metadata": {},
   "source": [
    "### Final Problem\n",
    "**You are driving a little too fast, and a police officer stops you. Write a function\n",
    "  to return one of 3 possible results: \"No ticket\", \"Small ticket\", or \"Big Ticket\". \n",
    "  If your speed is 60 or less, the result is \"No Ticket\". If speed is between 61 \n",
    "  and 80 inclusive, the result is \"Small Ticket\". If speed is 81 or more, the result is \"Big    Ticket\". Unless it is your birthday (encoded as a boolean value in the parameters of the function) -- on your birthday, your speed can be 5 higher in all \n",
    "  cases. **"
   ]
  },
  {
   "cell_type": "code",
   "execution_count": 22,
   "metadata": {
    "collapsed": true
   },
   "outputs": [],
   "source": [
    "def caught_speeding(speed, is_birthday):\n",
    "    speed - 5 if is_birthday else speed\n",
    "    if speed > 80:\n",
    "        return 'big ticket'\n",
    "    elif speed > 60:\n",
    "        return 'small ticket'\n",
    "    else:\n",
    "        return 'no ticket'\n"
   ]
  },
  {
   "cell_type": "code",
   "execution_count": 25,
   "metadata": {
    "collapsed": false
   },
   "outputs": [
    {
     "data": {
      "text/plain": [
       "'no ticket'"
      ]
     },
     "execution_count": 25,
     "metadata": {},
     "output_type": "execute_result"
    }
   ],
   "source": [
    "caught_speeding(50, False)"
   ]
  },
  {
   "cell_type": "code",
   "execution_count": 24,
   "metadata": {
    "collapsed": false
   },
   "outputs": [
    {
     "data": {
      "text/plain": [
       "'big ticket'"
      ]
     },
     "execution_count": 24,
     "metadata": {},
     "output_type": "execute_result"
    }
   ],
   "source": [
    "caught_speeding(81, True)"
   ]
  },
  {
   "cell_type": "markdown",
   "metadata": {},
   "source": [
    "# Great job!"
   ]
  }
 ],
 "metadata": {
  "anaconda-cloud": {},
  "kernelspec": {
<<<<<<< Updated upstream:crash_course/exercises.ipynb
   "display_name": "Python 3.10.0 64-bit",
=======
   "display_name": "Python 3.10.2 64-bit",
>>>>>>> Stashed changes:crash_course/Python Crash Course Exercises.ipynb
   "language": "python",
   "name": "python3"
  },
  "language_info": {
   "codemirror_mode": {
    "name": "ipython",
    "version": 3
   },
   "file_extension": ".py",
   "mimetype": "text/x-python",
   "name": "python",
   "nbconvert_exporter": "python",
   "pygments_lexer": "ipython3",
<<<<<<< Updated upstream:crash_course/exercises.ipynb
   "version": "3.10.0"
  },
  "vscode": {
   "interpreter": {
    "hash": "7e1998ff7f8aa20ada591c520b972326324e5ea05489af9e422744c7c09f6dad"
=======
   "version": "3.10.2"
  },
  "vscode": {
   "interpreter": {
    "hash": "aee8b7b246df8f9039afb4144a1f6fd8d2ca17a180786b69acc140d282b71a49"
>>>>>>> Stashed changes:crash_course/Python Crash Course Exercises.ipynb
   }
  }
 },
 "nbformat": 4,
 "nbformat_minor": 0
}
