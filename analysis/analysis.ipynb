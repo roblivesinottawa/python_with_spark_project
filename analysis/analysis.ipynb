{
 "cells": [
  {
   "cell_type": "code",
   "execution_count": 1,
   "metadata": {},
   "outputs": [],
   "source": [
    "import pandas as pd\n",
    "import numpy as np\n",
    "import matplotlib.pyplot as plt\n",
    "import seaborn as sns\n",
    "\n",
    "sns.set_style('darkgrid')"
   ]
  },
  {
   "cell_type": "code",
   "execution_count": 3,
   "metadata": {},
   "outputs": [
    {
     "name": "stdout",
     "output_type": "stream",
     "text": [
      "         Date        Open        High         Low       Close     Volume  \\\n",
      "0  2010-01-04  213.429998  214.499996  212.380001  214.009998  123432400   \n",
      "1  2010-01-05  214.599998  215.589994  213.249994  214.379993  150476200   \n",
      "2  2010-01-06  214.379993  215.230000  210.750004  210.969995  138040000   \n",
      "3  2010-01-07  211.750000  212.000006  209.050005  210.580000  119282800   \n",
      "4  2010-01-08  210.299994  212.000006  209.060005  211.980005  111902700   \n",
      "\n",
      "   Adj Close  \n",
      "0  27.727039  \n",
      "1  27.774976  \n",
      "2  27.333178  \n",
      "3  27.282650  \n",
      "4  27.464034  \n"
     ]
    }
   ],
   "source": [
    "df = pd.read_csv('appl_stock.csv')\n",
    "print(df.head())"
   ]
  },
  {
   "cell_type": "code",
   "execution_count": null,
   "metadata": {},
   "outputs": [],
   "source": []
  }
 ],
 "metadata": {
  "interpreter": {
   "hash": "aee8b7b246df8f9039afb4144a1f6fd8d2ca17a180786b69acc140d282b71a49"
  },
  "kernelspec": {
   "display_name": "Python 3.10.2 64-bit",
   "language": "python",
   "name": "python3"
  },
  "language_info": {
   "codemirror_mode": {
    "name": "ipython",
    "version": 3
   },
   "file_extension": ".py",
   "mimetype": "text/x-python",
   "name": "python",
   "nbconvert_exporter": "python",
   "pygments_lexer": "ipython3",
   "version": "3.10.2"
  },
  "orig_nbformat": 4
 },
 "nbformat": 4,
 "nbformat_minor": 2
}
